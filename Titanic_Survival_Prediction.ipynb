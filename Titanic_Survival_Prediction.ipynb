{
 "cells": [
  {
   "cell_type": "markdown",
   "id": "bcf849e8",
   "metadata": {
    "papermill": {
     "duration": 0.008513,
     "end_time": "2023-08-11T05:04:17.023489",
     "exception": false,
     "start_time": "2023-08-11T05:04:17.014976",
     "status": "completed"
    },
    "tags": []
   },
   "source": [
    "<div style=\"padding:25px;color:white;margin:20;font-size:100%;text-align:center;display:fill;overflow:hidden;\">\n",
    "    <b>\n",
    "        <span style='color:Black; font-size:45px;'>\n",
    "        <u>TITANIC SURVIVAL PREDICTION</u>\n",
    "    </span>\n",
    "    </b>\n",
    "</div>\n",
    "\n",
    "\n",
    "<div style=\"margin:10px\" >\n",
    "    <img src= \"https://assets.editorial.aetnd.com/uploads/2012/04/sinking-of-the-titanic-gettyimages-542907919-1.jpg?width=1920&height=960&crop=1920%3A960%2Csmart&quality=75\">\n",
    "</div>\n",
    "\n",
    "<div style=\"text-align:center;margin:40px;\" >\n",
    "    <span style=\"border:3px solid black; padding:10px;color:white;margin:10px;font-size:100%;display:fill;border-radius:30px;overflow:hidden; color:purple;font-weight:bold; font-size:40px;\">About</span>\n",
    "</div>\n",
    "\n",
    "<div style=\"margin:1px;\" >\n",
    "    <p style=\"font-weight:bold; font-size:18px;\">\n",
    "The standard Titanic dataset will be used to do analysis and model building. In order to predict the survival of these passengers, the data includes demographic and travel details for 418 Titanic passengers.Details on each passenger's general information and travel history are included in this dataset.\n",
    "    </p>\n",
    "</div>\n",
    "\n",
    "<ol style=\"font-weight:bold; font-size:18px;\">\n",
    "<li> Pclass: Passenger travelling in class (1 = 1st; 2 = 2nd; 3 = 3rd)</li>\n",
    "<li> Survival: A Boolean indicating whether the passenger survived or not (0 = No; 1 = Yes); this is to be predicted</li>\n",
    "<li> Name: Contains title and family names</li>\n",
    "<li> Sex: Gender of passenger (male/female) </li>\n",
    "<li> Age: Age</li>\n",
    "<li> Sibsp: Number of siblings/spouses aboard</li>\n",
    "<li> Parch: Number of parents/children aboard</li>\n",
    "<li> Ticket: Ticket number.</li>\n",
    "<li> Fare: Passenger fare ( In British Pound).</li>\n",
    "<li> Cabin: Cabin number</li>\n",
    "<li> Embarked: Port of embarkation (C = Cherbourg; Q = Queenstown; S = Southampton)</li>\n",
    " </ol>\n",
    "\n",
    " <div style=\"margin:40px;text-align:left;\" >\n",
    "    <span style=\"display:fill;overflow:hidden; color:purple;font-weight:bold; font-size:50px;\"><u>Objective</u> : <span style=\"display:fill;overflow:hidden; color:Red;font-size:25px;\">To create a predictive model using machine learning (ML) that can, given the available data, predict a passenger's survival as precisely as feasible.</span></span>\n",
    "</div>\n",
    " \n",
    "\n",
    " <div style=\"text-align:center;margin:40px;\" >\n",
    "    <span style=\"border:3px solid black; padding:10px;color:white;margin:10px;font-size:100%;display:fill;border-radius:30px;overflow:hidden; color:blue;font-weight:bold; font-size:40px;\"> STEP-1 : Importing Libraries</span>\n",
    "</div>\n",
    " "
   ]
  },
  {
   "cell_type": "code",
   "execution_count": 1,
   "id": "5ae1e5ab",
   "metadata": {
    "papermill": {
     "duration": 3.277843,
     "end_time": "2023-08-11T05:04:20.309762",
     "exception": false,
     "start_time": "2023-08-11T05:04:17.031919",
     "status": "completed"
    },
    "tags": []
   },
   "outputs": [],
   "source": [
    "import numpy as np\n",
    "import pandas as pd\n",
    "import seaborn as sns\n",
    "import warnings\n",
    "warnings.filterwarnings(\"ignore\")\n",
    "import matplotlib.pyplot as plt\n",
    "from matplotlib import colors\n",
    "\n",
    "from sklearn.linear_model import LogisticRegression\n",
    "from sklearn.model_selection import train_test_split\n",
    "from sklearn.metrics import classification_report\n",
    "from sklearn.metrics import accuracy_score\n",
    "from sklearn.metrics import confusion_matrix\n",
    "from sklearn.tree import DecisionTreeClassifier\n",
    "from sklearn.svm import SVC\n",
    "from sklearn.ensemble import RandomForestClassifier\n",
    "from sklearn.neighbors import KNeighborsClassifier\n"
   ]
  },
  {
   "cell_type": "markdown",
   "id": "2d2fb4b4",
   "metadata": {
    "papermill": {
     "duration": 0.011212,
     "end_time": "2023-08-11T05:04:20.328544",
     "exception": false,
     "start_time": "2023-08-11T05:04:20.317332",
     "status": "completed"
    },
    "tags": []
   },
   "source": [
    " <div style=\"text-align:center;margin:40px;\" >\n",
    "    <span style=\"border:3px solid black; padding:10px;color:white;margin:10px;font-size:100%;display:fill;border-radius:30px;overflow:hidden; color:blue;font-weight:bold; font-size:40px;\"> STEP-2 : Reading Dataset</span>\n",
    "</div>"
   ]
  },
  {
   "cell_type": "code",
   "execution_count": 2,
   "id": "12a9b82c",
   "metadata": {
    "papermill": {
     "duration": 0.072831,
     "end_time": "2023-08-11T05:04:20.408441",
     "exception": false,
     "start_time": "2023-08-11T05:04:20.33561",
     "status": "completed"
    },
    "tags": []
   },
   "outputs": [],
   "source": [
    "df = pd.read_csv('Titanic_dataset.csv')\n"
   ]
  },
  {
   "cell_type": "markdown",
   "id": "f3799963",
   "metadata": {
    "papermill": {
     "duration": 0.007472,
     "end_time": "2023-08-11T05:04:20.424006",
     "exception": false,
     "start_time": "2023-08-11T05:04:20.416534",
     "status": "completed"
    },
    "tags": []
   },
   "source": [
    " <div style=\"text-align:center;margin:40px;\" >\n",
    "    <span style=\"border:3px solid black; padding:10px;color:white;margin:10px;font-size:100%;display:fill;border-radius:30px;overflow:hidden; color:blue;font-weight:bold; font-size:40px;\"> STEP-3 : Exploratory Data Analysis(EDA)</span>\n",
    "</div>"
   ]
  },
  {
   "cell_type": "code",
   "execution_count": 3,
   "id": "37e86303",
   "metadata": {
    "papermill": {
     "duration": 0.026544,
     "end_time": "2023-08-11T05:04:20.458557",
     "exception": false,
     "start_time": "2023-08-11T05:04:20.432013",
     "status": "completed"
    },
    "tags": []
   },
   "outputs": [
    {
     "data": {
      "text/html": [
       "<div>\n",
       "<style scoped>\n",
       "    .dataframe tbody tr th:only-of-type {\n",
       "        vertical-align: middle;\n",
       "    }\n",
       "\n",
       "    .dataframe tbody tr th {\n",
       "        vertical-align: top;\n",
       "    }\n",
       "\n",
       "    .dataframe thead th {\n",
       "        text-align: right;\n",
       "    }\n",
       "</style>\n",
       "<table border=\"1\" class=\"dataframe\">\n",
       "  <thead>\n",
       "    <tr style=\"text-align: right;\">\n",
       "      <th></th>\n",
       "      <th>PassengerId</th>\n",
       "      <th>Survived</th>\n",
       "      <th>Pclass</th>\n",
       "      <th>Name</th>\n",
       "      <th>Sex</th>\n",
       "      <th>Age</th>\n",
       "      <th>SibSp</th>\n",
       "      <th>Parch</th>\n",
       "      <th>Ticket</th>\n",
       "      <th>Fare</th>\n",
       "      <th>Cabin</th>\n",
       "      <th>Embarked</th>\n",
       "    </tr>\n",
       "  </thead>\n",
       "  <tbody>\n",
       "    <tr>\n",
       "      <th>0</th>\n",
       "      <td>892</td>\n",
       "      <td>0</td>\n",
       "      <td>3</td>\n",
       "      <td>Kelly, Mr. James</td>\n",
       "      <td>male</td>\n",
       "      <td>34.5</td>\n",
       "      <td>0</td>\n",
       "      <td>0</td>\n",
       "      <td>330911</td>\n",
       "      <td>7.8292</td>\n",
       "      <td>NaN</td>\n",
       "      <td>Q</td>\n",
       "    </tr>\n",
       "    <tr>\n",
       "      <th>1</th>\n",
       "      <td>893</td>\n",
       "      <td>1</td>\n",
       "      <td>3</td>\n",
       "      <td>Wilkes, Mrs. James (Ellen Needs)</td>\n",
       "      <td>female</td>\n",
       "      <td>47.0</td>\n",
       "      <td>1</td>\n",
       "      <td>0</td>\n",
       "      <td>363272</td>\n",
       "      <td>7.0000</td>\n",
       "      <td>NaN</td>\n",
       "      <td>S</td>\n",
       "    </tr>\n",
       "    <tr>\n",
       "      <th>2</th>\n",
       "      <td>894</td>\n",
       "      <td>0</td>\n",
       "      <td>2</td>\n",
       "      <td>Myles, Mr. Thomas Francis</td>\n",
       "      <td>male</td>\n",
       "      <td>62.0</td>\n",
       "      <td>0</td>\n",
       "      <td>0</td>\n",
       "      <td>240276</td>\n",
       "      <td>9.6875</td>\n",
       "      <td>NaN</td>\n",
       "      <td>Q</td>\n",
       "    </tr>\n",
       "    <tr>\n",
       "      <th>3</th>\n",
       "      <td>895</td>\n",
       "      <td>0</td>\n",
       "      <td>3</td>\n",
       "      <td>Wirz, Mr. Albert</td>\n",
       "      <td>male</td>\n",
       "      <td>27.0</td>\n",
       "      <td>0</td>\n",
       "      <td>0</td>\n",
       "      <td>315154</td>\n",
       "      <td>8.6625</td>\n",
       "      <td>NaN</td>\n",
       "      <td>S</td>\n",
       "    </tr>\n",
       "    <tr>\n",
       "      <th>4</th>\n",
       "      <td>896</td>\n",
       "      <td>1</td>\n",
       "      <td>3</td>\n",
       "      <td>Hirvonen, Mrs. Alexander (Helga E Lindqvist)</td>\n",
       "      <td>female</td>\n",
       "      <td>22.0</td>\n",
       "      <td>1</td>\n",
       "      <td>1</td>\n",
       "      <td>3101298</td>\n",
       "      <td>12.2875</td>\n",
       "      <td>NaN</td>\n",
       "      <td>S</td>\n",
       "    </tr>\n",
       "  </tbody>\n",
       "</table>\n",
       "</div>"
      ],
      "text/plain": [
       "   PassengerId  Survived  Pclass  \\\n",
       "0          892         0       3   \n",
       "1          893         1       3   \n",
       "2          894         0       2   \n",
       "3          895         0       3   \n",
       "4          896         1       3   \n",
       "\n",
       "                                           Name     Sex   Age  SibSp  Parch  \\\n",
       "0                              Kelly, Mr. James    male  34.5      0      0   \n",
       "1              Wilkes, Mrs. James (Ellen Needs)  female  47.0      1      0   \n",
       "2                     Myles, Mr. Thomas Francis    male  62.0      0      0   \n",
       "3                              Wirz, Mr. Albert    male  27.0      0      0   \n",
       "4  Hirvonen, Mrs. Alexander (Helga E Lindqvist)  female  22.0      1      1   \n",
       "\n",
       "    Ticket     Fare Cabin Embarked  \n",
       "0   330911   7.8292   NaN        Q  \n",
       "1   363272   7.0000   NaN        S  \n",
       "2   240276   9.6875   NaN        Q  \n",
       "3   315154   8.6625   NaN        S  \n",
       "4  3101298  12.2875   NaN        S  "
      ]
     },
     "execution_count": 3,
     "metadata": {},
     "output_type": "execute_result"
    }
   ],
   "source": [
    "df.head()"
   ]
  },
  {
   "cell_type": "code",
   "execution_count": 4,
   "id": "1a59bb01",
   "metadata": {
    "papermill": {
     "duration": 0.027441,
     "end_time": "2023-08-11T05:04:20.494668",
     "exception": false,
     "start_time": "2023-08-11T05:04:20.467227",
     "status": "completed"
    },
    "tags": []
   },
   "outputs": [
    {
     "data": {
      "text/html": [
       "<div>\n",
       "<style scoped>\n",
       "    .dataframe tbody tr th:only-of-type {\n",
       "        vertical-align: middle;\n",
       "    }\n",
       "\n",
       "    .dataframe tbody tr th {\n",
       "        vertical-align: top;\n",
       "    }\n",
       "\n",
       "    .dataframe thead th {\n",
       "        text-align: right;\n",
       "    }\n",
       "</style>\n",
       "<table border=\"1\" class=\"dataframe\">\n",
       "  <thead>\n",
       "    <tr style=\"text-align: right;\">\n",
       "      <th></th>\n",
       "      <th>PassengerId</th>\n",
       "      <th>Survived</th>\n",
       "      <th>Pclass</th>\n",
       "      <th>Name</th>\n",
       "      <th>Sex</th>\n",
       "      <th>Age</th>\n",
       "      <th>SibSp</th>\n",
       "      <th>Parch</th>\n",
       "      <th>Ticket</th>\n",
       "      <th>Fare</th>\n",
       "      <th>Cabin</th>\n",
       "      <th>Embarked</th>\n",
       "    </tr>\n",
       "  </thead>\n",
       "  <tbody>\n",
       "    <tr>\n",
       "      <th>413</th>\n",
       "      <td>1305</td>\n",
       "      <td>0</td>\n",
       "      <td>3</td>\n",
       "      <td>Spector, Mr. Woolf</td>\n",
       "      <td>male</td>\n",
       "      <td>NaN</td>\n",
       "      <td>0</td>\n",
       "      <td>0</td>\n",
       "      <td>A.5. 3236</td>\n",
       "      <td>8.0500</td>\n",
       "      <td>NaN</td>\n",
       "      <td>S</td>\n",
       "    </tr>\n",
       "    <tr>\n",
       "      <th>414</th>\n",
       "      <td>1306</td>\n",
       "      <td>1</td>\n",
       "      <td>1</td>\n",
       "      <td>Oliva y Ocana, Dona. Fermina</td>\n",
       "      <td>female</td>\n",
       "      <td>39.0</td>\n",
       "      <td>0</td>\n",
       "      <td>0</td>\n",
       "      <td>PC 17758</td>\n",
       "      <td>108.9000</td>\n",
       "      <td>C105</td>\n",
       "      <td>C</td>\n",
       "    </tr>\n",
       "    <tr>\n",
       "      <th>415</th>\n",
       "      <td>1307</td>\n",
       "      <td>0</td>\n",
       "      <td>3</td>\n",
       "      <td>Saether, Mr. Simon Sivertsen</td>\n",
       "      <td>male</td>\n",
       "      <td>38.5</td>\n",
       "      <td>0</td>\n",
       "      <td>0</td>\n",
       "      <td>SOTON/O.Q. 3101262</td>\n",
       "      <td>7.2500</td>\n",
       "      <td>NaN</td>\n",
       "      <td>S</td>\n",
       "    </tr>\n",
       "    <tr>\n",
       "      <th>416</th>\n",
       "      <td>1308</td>\n",
       "      <td>0</td>\n",
       "      <td>3</td>\n",
       "      <td>Ware, Mr. Frederick</td>\n",
       "      <td>male</td>\n",
       "      <td>NaN</td>\n",
       "      <td>0</td>\n",
       "      <td>0</td>\n",
       "      <td>359309</td>\n",
       "      <td>8.0500</td>\n",
       "      <td>NaN</td>\n",
       "      <td>S</td>\n",
       "    </tr>\n",
       "    <tr>\n",
       "      <th>417</th>\n",
       "      <td>1309</td>\n",
       "      <td>0</td>\n",
       "      <td>3</td>\n",
       "      <td>Peter, Master. Michael J</td>\n",
       "      <td>male</td>\n",
       "      <td>NaN</td>\n",
       "      <td>1</td>\n",
       "      <td>1</td>\n",
       "      <td>2668</td>\n",
       "      <td>22.3583</td>\n",
       "      <td>NaN</td>\n",
       "      <td>C</td>\n",
       "    </tr>\n",
       "  </tbody>\n",
       "</table>\n",
       "</div>"
      ],
      "text/plain": [
       "     PassengerId  Survived  Pclass                          Name     Sex  \\\n",
       "413         1305         0       3            Spector, Mr. Woolf    male   \n",
       "414         1306         1       1  Oliva y Ocana, Dona. Fermina  female   \n",
       "415         1307         0       3  Saether, Mr. Simon Sivertsen    male   \n",
       "416         1308         0       3           Ware, Mr. Frederick    male   \n",
       "417         1309         0       3      Peter, Master. Michael J    male   \n",
       "\n",
       "      Age  SibSp  Parch              Ticket      Fare Cabin Embarked  \n",
       "413   NaN      0      0           A.5. 3236    8.0500   NaN        S  \n",
       "414  39.0      0      0            PC 17758  108.9000  C105        C  \n",
       "415  38.5      0      0  SOTON/O.Q. 3101262    7.2500   NaN        S  \n",
       "416   NaN      0      0              359309    8.0500   NaN        S  \n",
       "417   NaN      1      1                2668   22.3583   NaN        C  "
      ]
     },
     "execution_count": 4,
     "metadata": {},
     "output_type": "execute_result"
    }
   ],
   "source": [
    "df.tail()"
   ]
  },
  {
   "cell_type": "code",
   "execution_count": 5,
   "id": "230b7d24",
   "metadata": {
    "papermill": {
     "duration": 0.017712,
     "end_time": "2023-08-11T05:04:20.521492",
     "exception": false,
     "start_time": "2023-08-11T05:04:20.50378",
     "status": "completed"
    },
    "tags": []
   },
   "outputs": [
    {
     "data": {
      "text/plain": [
       "(418, 12)"
      ]
     },
     "execution_count": 5,
     "metadata": {},
     "output_type": "execute_result"
    }
   ],
   "source": [
    "df.shape"
   ]
  },
  {
   "cell_type": "code",
   "execution_count": 6,
   "id": "8530d1a6",
   "metadata": {
    "papermill": {
     "duration": 0.048606,
     "end_time": "2023-08-11T05:04:20.578877",
     "exception": false,
     "start_time": "2023-08-11T05:04:20.530271",
     "status": "completed"
    },
    "tags": []
   },
   "outputs": [
    {
     "data": {
      "text/html": [
       "<div>\n",
       "<style scoped>\n",
       "    .dataframe tbody tr th:only-of-type {\n",
       "        vertical-align: middle;\n",
       "    }\n",
       "\n",
       "    .dataframe tbody tr th {\n",
       "        vertical-align: top;\n",
       "    }\n",
       "\n",
       "    .dataframe thead th {\n",
       "        text-align: right;\n",
       "    }\n",
       "</style>\n",
       "<table border=\"1\" class=\"dataframe\">\n",
       "  <thead>\n",
       "    <tr style=\"text-align: right;\">\n",
       "      <th></th>\n",
       "      <th>PassengerId</th>\n",
       "      <th>Survived</th>\n",
       "      <th>Pclass</th>\n",
       "      <th>Age</th>\n",
       "      <th>SibSp</th>\n",
       "      <th>Parch</th>\n",
       "      <th>Fare</th>\n",
       "    </tr>\n",
       "  </thead>\n",
       "  <tbody>\n",
       "    <tr>\n",
       "      <th>count</th>\n",
       "      <td>418.000000</td>\n",
       "      <td>418.000000</td>\n",
       "      <td>418.000000</td>\n",
       "      <td>332.000000</td>\n",
       "      <td>418.000000</td>\n",
       "      <td>418.000000</td>\n",
       "      <td>417.000000</td>\n",
       "    </tr>\n",
       "    <tr>\n",
       "      <th>mean</th>\n",
       "      <td>1100.500000</td>\n",
       "      <td>0.363636</td>\n",
       "      <td>2.265550</td>\n",
       "      <td>30.272590</td>\n",
       "      <td>0.447368</td>\n",
       "      <td>0.392344</td>\n",
       "      <td>35.627188</td>\n",
       "    </tr>\n",
       "    <tr>\n",
       "      <th>std</th>\n",
       "      <td>120.810458</td>\n",
       "      <td>0.481622</td>\n",
       "      <td>0.841838</td>\n",
       "      <td>14.181209</td>\n",
       "      <td>0.896760</td>\n",
       "      <td>0.981429</td>\n",
       "      <td>55.907576</td>\n",
       "    </tr>\n",
       "    <tr>\n",
       "      <th>min</th>\n",
       "      <td>892.000000</td>\n",
       "      <td>0.000000</td>\n",
       "      <td>1.000000</td>\n",
       "      <td>0.170000</td>\n",
       "      <td>0.000000</td>\n",
       "      <td>0.000000</td>\n",
       "      <td>0.000000</td>\n",
       "    </tr>\n",
       "    <tr>\n",
       "      <th>25%</th>\n",
       "      <td>996.250000</td>\n",
       "      <td>0.000000</td>\n",
       "      <td>1.000000</td>\n",
       "      <td>21.000000</td>\n",
       "      <td>0.000000</td>\n",
       "      <td>0.000000</td>\n",
       "      <td>7.895800</td>\n",
       "    </tr>\n",
       "    <tr>\n",
       "      <th>50%</th>\n",
       "      <td>1100.500000</td>\n",
       "      <td>0.000000</td>\n",
       "      <td>3.000000</td>\n",
       "      <td>27.000000</td>\n",
       "      <td>0.000000</td>\n",
       "      <td>0.000000</td>\n",
       "      <td>14.454200</td>\n",
       "    </tr>\n",
       "    <tr>\n",
       "      <th>75%</th>\n",
       "      <td>1204.750000</td>\n",
       "      <td>1.000000</td>\n",
       "      <td>3.000000</td>\n",
       "      <td>39.000000</td>\n",
       "      <td>1.000000</td>\n",
       "      <td>0.000000</td>\n",
       "      <td>31.500000</td>\n",
       "    </tr>\n",
       "    <tr>\n",
       "      <th>max</th>\n",
       "      <td>1309.000000</td>\n",
       "      <td>1.000000</td>\n",
       "      <td>3.000000</td>\n",
       "      <td>76.000000</td>\n",
       "      <td>8.000000</td>\n",
       "      <td>9.000000</td>\n",
       "      <td>512.329200</td>\n",
       "    </tr>\n",
       "  </tbody>\n",
       "</table>\n",
       "</div>"
      ],
      "text/plain": [
       "       PassengerId    Survived      Pclass         Age       SibSp  \\\n",
       "count   418.000000  418.000000  418.000000  332.000000  418.000000   \n",
       "mean   1100.500000    0.363636    2.265550   30.272590    0.447368   \n",
       "std     120.810458    0.481622    0.841838   14.181209    0.896760   \n",
       "min     892.000000    0.000000    1.000000    0.170000    0.000000   \n",
       "25%     996.250000    0.000000    1.000000   21.000000    0.000000   \n",
       "50%    1100.500000    0.000000    3.000000   27.000000    0.000000   \n",
       "75%    1204.750000    1.000000    3.000000   39.000000    1.000000   \n",
       "max    1309.000000    1.000000    3.000000   76.000000    8.000000   \n",
       "\n",
       "            Parch        Fare  \n",
       "count  418.000000  417.000000  \n",
       "mean     0.392344   35.627188  \n",
       "std      0.981429   55.907576  \n",
       "min      0.000000    0.000000  \n",
       "25%      0.000000    7.895800  \n",
       "50%      0.000000   14.454200  \n",
       "75%      0.000000   31.500000  \n",
       "max      9.000000  512.329200  "
      ]
     },
     "execution_count": 6,
     "metadata": {},
     "output_type": "execute_result"
    }
   ],
   "source": [
    "df.describe()"
   ]
  },
  {
   "cell_type": "code",
   "execution_count": 7,
   "id": "0966a055",
   "metadata": {
    "papermill": {
     "duration": 0.024313,
     "end_time": "2023-08-11T05:04:20.612799",
     "exception": false,
     "start_time": "2023-08-11T05:04:20.588486",
     "status": "completed"
    },
    "tags": []
   },
   "outputs": [
    {
     "data": {
      "text/plain": [
       "PassengerId      0\n",
       "Survived         0\n",
       "Pclass           0\n",
       "Name             0\n",
       "Sex              0\n",
       "Age             86\n",
       "SibSp            0\n",
       "Parch            0\n",
       "Ticket           0\n",
       "Fare             1\n",
       "Cabin          327\n",
       "Embarked         0\n",
       "dtype: int64"
      ]
     },
     "execution_count": 7,
     "metadata": {},
     "output_type": "execute_result"
    }
   ],
   "source": [
    "df.isnull().sum()"
   ]
  },
  {
   "cell_type": "code",
   "execution_count": 8,
   "id": "4273d976",
   "metadata": {
    "papermill": {
     "duration": 0.019396,
     "end_time": "2023-08-11T05:04:20.671494",
     "exception": false,
     "start_time": "2023-08-11T05:04:20.652098",
     "status": "completed"
    },
    "tags": []
   },
   "outputs": [],
   "source": [
    "df['Age'] = df['Age'].fillna(df['Age'].mean())\n",
    "df['Fare'] = df['Fare'].fillna(df['Fare'].mean())"
   ]
  },
  {
   "cell_type": "code",
   "execution_count": 9,
   "id": "73574c0d-7c5e-4908-a34a-18a1d67d328a",
   "metadata": {},
   "outputs": [
    {
     "data": {
      "text/plain": [
       "PassengerId      0\n",
       "Survived         0\n",
       "Pclass           0\n",
       "Name             0\n",
       "Sex              0\n",
       "Age              0\n",
       "SibSp            0\n",
       "Parch            0\n",
       "Ticket           0\n",
       "Fare             0\n",
       "Cabin          327\n",
       "Embarked         0\n",
       "dtype: int64"
      ]
     },
     "execution_count": 9,
     "metadata": {},
     "output_type": "execute_result"
    }
   ],
   "source": [
    "df.isnull().sum()"
   ]
  },
  {
   "cell_type": "code",
   "execution_count": 10,
   "id": "9689ed41",
   "metadata": {
    "papermill": {
     "duration": 0.020032,
     "end_time": "2023-08-11T05:04:20.642923",
     "exception": false,
     "start_time": "2023-08-11T05:04:20.622891",
     "status": "completed"
    },
    "tags": []
   },
   "outputs": [
    {
     "data": {
      "text/plain": [
       "PassengerId      int64\n",
       "Survived         int64\n",
       "Pclass           int64\n",
       "Name            object\n",
       "Sex             object\n",
       "Age            float64\n",
       "SibSp            int64\n",
       "Parch            int64\n",
       "Ticket          object\n",
       "Fare           float64\n",
       "Cabin           object\n",
       "Embarked        object\n",
       "dtype: object"
      ]
     },
     "execution_count": 10,
     "metadata": {},
     "output_type": "execute_result"
    }
   ],
   "source": [
    "df.dtypes"
   ]
  },
  {
   "cell_type": "code",
   "execution_count": 11,
   "id": "829393c3",
   "metadata": {
    "papermill": {
     "duration": 0.023879,
     "end_time": "2023-08-11T05:04:20.705185",
     "exception": false,
     "start_time": "2023-08-11T05:04:20.681306",
     "status": "completed"
    },
    "tags": []
   },
   "outputs": [
    {
     "name": "stdout",
     "output_type": "stream",
     "text": [
      "-> Q\n",
      "-> S\n",
      "-> C\n"
     ]
    }
   ],
   "source": [
    "Embarked = df['Embarked'].unique()\n",
    "for Embarkeds in Embarked:\n",
    "    print(\"->\",Embarkeds)"
   ]
  },
  {
   "cell_type": "code",
   "execution_count": 12,
   "id": "b953370b-2852-4832-99b2-4edc71ea3328",
   "metadata": {},
   "outputs": [
    {
     "name": "stdout",
     "output_type": "stream",
     "text": [
      "-> 0\n",
      "-> 1\n"
     ]
    }
   ],
   "source": [
    "Survived = df['Survived'].unique()\n",
    "for Survives in Survived:\n",
    "    print(\"->\",Survives)"
   ]
  },
  {
   "cell_type": "code",
   "execution_count": 13,
   "id": "ed2ee649",
   "metadata": {
    "papermill": {
     "duration": 0.019231,
     "end_time": "2023-08-11T05:04:20.73346",
     "exception": false,
     "start_time": "2023-08-11T05:04:20.714229",
     "status": "completed"
    },
    "tags": []
   },
   "outputs": [],
   "source": [
    "df['Embarked'] = df['Embarked'].map( {'Q': 0,'S':1,'C':2}).astype(int)\n",
    "df['Sex'] = df['Sex'].map( {'female': 1,'male':0}).astype(int)"
   ]
  },
  {
   "cell_type": "code",
   "execution_count": 14,
   "id": "3aadab79",
   "metadata": {
    "papermill": {
     "duration": 0.01919,
     "end_time": "2023-08-11T05:04:20.76192",
     "exception": false,
     "start_time": "2023-08-11T05:04:20.74273",
     "status": "completed"
    },
    "tags": []
   },
   "outputs": [
    {
     "data": {
      "text/plain": [
       "PassengerId      int64\n",
       "Survived         int64\n",
       "Pclass           int64\n",
       "Name            object\n",
       "Sex              int32\n",
       "Age            float64\n",
       "SibSp            int64\n",
       "Parch            int64\n",
       "Ticket          object\n",
       "Fare           float64\n",
       "Cabin           object\n",
       "Embarked         int32\n",
       "dtype: object"
      ]
     },
     "execution_count": 14,
     "metadata": {},
     "output_type": "execute_result"
    }
   ],
   "source": [
    "df.dtypes"
   ]
  },
  {
   "cell_type": "code",
   "execution_count": 15,
   "id": "5686f0c3",
   "metadata": {
    "papermill": {
     "duration": 0.018545,
     "end_time": "2023-08-11T05:04:20.790173",
     "exception": false,
     "start_time": "2023-08-11T05:04:20.771628",
     "status": "completed"
    },
    "tags": []
   },
   "outputs": [],
   "source": [
    "df['Age'] = df['Age'].astype(int)\n",
    "df['Fare'] = df['Fare'].astype(int)"
   ]
  },
  {
   "cell_type": "code",
   "execution_count": 16,
   "id": "187f6baa-d612-4221-ac6b-fa3724e7e559",
   "metadata": {},
   "outputs": [
    {
     "data": {
      "text/plain": [
       "PassengerId     int64\n",
       "Survived        int64\n",
       "Pclass          int64\n",
       "Name           object\n",
       "Sex             int32\n",
       "Age             int32\n",
       "SibSp           int64\n",
       "Parch           int64\n",
       "Ticket         object\n",
       "Fare            int32\n",
       "Cabin          object\n",
       "Embarked        int32\n",
       "dtype: object"
      ]
     },
     "execution_count": 16,
     "metadata": {},
     "output_type": "execute_result"
    }
   ],
   "source": [
    "df.dtypes"
   ]
  },
  {
   "cell_type": "code",
   "execution_count": 17,
   "id": "82940a47",
   "metadata": {
    "papermill": {
     "duration": 0.01888,
     "end_time": "2023-08-11T05:04:20.847411",
     "exception": false,
     "start_time": "2023-08-11T05:04:20.828531",
     "status": "completed"
    },
    "tags": []
   },
   "outputs": [],
   "source": [
    "df.drop(['PassengerId','Name','Cabin','Ticket'], axis=1, inplace=True)"
   ]
  },
  {
   "cell_type": "code",
   "execution_count": 18,
   "id": "4ceb7a24-6ae4-4d73-8a2b-6f8cff62cd4c",
   "metadata": {},
   "outputs": [
    {
     "data": {
      "image/png": "[encoded data removed]",
      "text/plain": [
       "<Figure size 640x480 with 2 Axes>"
      ]
     },
     "metadata": {},
     "output_type": "display_data"
    }
   ],
   "source": [
    "corr_matrix = df.corr()\n",
    "\n",
    "hm = sns.heatmap(data=corr_matrix,annot=True)\n"
   ]
  },
  {
   "cell_type": "code",
   "execution_count": 19,
   "id": "a72ff10b-7f50-48a7-8af7-a899e5628955",
   "metadata": {},
   "outputs": [
    {
     "name": "stdout",
     "output_type": "stream",
     "text": [
      "Correlation coefficient :  1.0\n"
     ]
    }
   ],
   "source": [
    "a = df['Sex']\n",
    "b = df['Survived']\n",
    "corr = np.corrcoef(a,b)[0,1]\n",
    "print(\"Correlation coefficient : \", corr)\n"
   ]
  },
  {
   "cell_type": "code",
   "execution_count": 20,
   "id": "93b0a214-4370-4a0d-b9e1-a1f0a9595e87",
   "metadata": {},
   "outputs": [],
   "source": [
    "df.drop(['Sex'], axis=1, inplace=True)"
   ]
  },
  {
   "cell_type": "code",
   "execution_count": 21,
   "id": "3581dc0a",
   "metadata": {
    "papermill": {
     "duration": 0.025792,
     "end_time": "2023-08-11T05:04:20.884438",
     "exception": false,
     "start_time": "2023-08-11T05:04:20.858646",
     "status": "completed"
    },
    "tags": []
   },
   "outputs": [
    {
     "data": {
      "text/html": [
       "<div>\n",
       "<style scoped>\n",
       "    .dataframe tbody tr th:only-of-type {\n",
       "        vertical-align: middle;\n",
       "    }\n",
       "\n",
       "    .dataframe tbody tr th {\n",
       "        vertical-align: top;\n",
       "    }\n",
       "\n",
       "    .dataframe thead th {\n",
       "        text-align: right;\n",
       "    }\n",
       "</style>\n",
       "<table border=\"1\" class=\"dataframe\">\n",
       "  <thead>\n",
       "    <tr style=\"text-align: right;\">\n",
       "      <th></th>\n",
       "      <th>Survived</th>\n",
       "      <th>Pclass</th>\n",
       "      <th>Age</th>\n",
       "      <th>SibSp</th>\n",
       "      <th>Parch</th>\n",
       "      <th>Fare</th>\n",
       "      <th>Embarked</th>\n",
       "    </tr>\n",
       "  </thead>\n",
       "  <tbody>\n",
       "    <tr>\n",
       "      <th>0</th>\n",
       "      <td>0</td>\n",
       "      <td>3</td>\n",
       "      <td>34</td>\n",
       "      <td>0</td>\n",
       "      <td>0</td>\n",
       "      <td>7</td>\n",
       "      <td>0</td>\n",
       "    </tr>\n",
       "    <tr>\n",
       "      <th>1</th>\n",
       "      <td>1</td>\n",
       "      <td>3</td>\n",
       "      <td>47</td>\n",
       "      <td>1</td>\n",
       "      <td>0</td>\n",
       "      <td>7</td>\n",
       "      <td>1</td>\n",
       "    </tr>\n",
       "    <tr>\n",
       "      <th>2</th>\n",
       "      <td>0</td>\n",
       "      <td>2</td>\n",
       "      <td>62</td>\n",
       "      <td>0</td>\n",
       "      <td>0</td>\n",
       "      <td>9</td>\n",
       "      <td>0</td>\n",
       "    </tr>\n",
       "    <tr>\n",
       "      <th>3</th>\n",
       "      <td>0</td>\n",
       "      <td>3</td>\n",
       "      <td>27</td>\n",
       "      <td>0</td>\n",
       "      <td>0</td>\n",
       "      <td>8</td>\n",
       "      <td>1</td>\n",
       "    </tr>\n",
       "    <tr>\n",
       "      <th>4</th>\n",
       "      <td>1</td>\n",
       "      <td>3</td>\n",
       "      <td>22</td>\n",
       "      <td>1</td>\n",
       "      <td>1</td>\n",
       "      <td>12</td>\n",
       "      <td>1</td>\n",
       "    </tr>\n",
       "  </tbody>\n",
       "</table>\n",
       "</div>"
      ],
      "text/plain": [
       "   Survived  Pclass  Age  SibSp  Parch  Fare  Embarked\n",
       "0         0       3   34      0      0     7         0\n",
       "1         1       3   47      1      0     7         1\n",
       "2         0       2   62      0      0     9         0\n",
       "3         0       3   27      0      0     8         1\n",
       "4         1       3   22      1      1    12         1"
      ]
     },
     "execution_count": 21,
     "metadata": {},
     "output_type": "execute_result"
    }
   ],
   "source": [
    "df.head()"
   ]
  },
  {
   "cell_type": "code",
   "execution_count": 22,
   "id": "999b6e87-d13a-4759-8eca-5d247ce0b0d3",
   "metadata": {},
   "outputs": [
    {
     "data": {
      "text/html": [
       "<div>\n",
       "<style scoped>\n",
       "    .dataframe tbody tr th:only-of-type {\n",
       "        vertical-align: middle;\n",
       "    }\n",
       "\n",
       "    .dataframe tbody tr th {\n",
       "        vertical-align: top;\n",
       "    }\n",
       "\n",
       "    .dataframe thead th {\n",
       "        text-align: right;\n",
       "    }\n",
       "</style>\n",
       "<table border=\"1\" class=\"dataframe\">\n",
       "  <thead>\n",
       "    <tr style=\"text-align: right;\">\n",
       "      <th></th>\n",
       "      <th>Survived</th>\n",
       "      <th>Pclass</th>\n",
       "      <th>Age</th>\n",
       "      <th>SibSp</th>\n",
       "      <th>Parch</th>\n",
       "      <th>Fare</th>\n",
       "      <th>Embarked</th>\n",
       "    </tr>\n",
       "  </thead>\n",
       "  <tbody>\n",
       "    <tr>\n",
       "      <th>413</th>\n",
       "      <td>0</td>\n",
       "      <td>3</td>\n",
       "      <td>30</td>\n",
       "      <td>0</td>\n",
       "      <td>0</td>\n",
       "      <td>8</td>\n",
       "      <td>1</td>\n",
       "    </tr>\n",
       "    <tr>\n",
       "      <th>414</th>\n",
       "      <td>1</td>\n",
       "      <td>1</td>\n",
       "      <td>39</td>\n",
       "      <td>0</td>\n",
       "      <td>0</td>\n",
       "      <td>108</td>\n",
       "      <td>2</td>\n",
       "    </tr>\n",
       "    <tr>\n",
       "      <th>415</th>\n",
       "      <td>0</td>\n",
       "      <td>3</td>\n",
       "      <td>38</td>\n",
       "      <td>0</td>\n",
       "      <td>0</td>\n",
       "      <td>7</td>\n",
       "      <td>1</td>\n",
       "    </tr>\n",
       "    <tr>\n",
       "      <th>416</th>\n",
       "      <td>0</td>\n",
       "      <td>3</td>\n",
       "      <td>30</td>\n",
       "      <td>0</td>\n",
       "      <td>0</td>\n",
       "      <td>8</td>\n",
       "      <td>1</td>\n",
       "    </tr>\n",
       "    <tr>\n",
       "      <th>417</th>\n",
       "      <td>0</td>\n",
       "      <td>3</td>\n",
       "      <td>30</td>\n",
       "      <td>1</td>\n",
       "      <td>1</td>\n",
       "      <td>22</td>\n",
       "      <td>2</td>\n",
       "    </tr>\n",
       "  </tbody>\n",
       "</table>\n",
       "</div>"
      ],
      "text/plain": [
       "     Survived  Pclass  Age  SibSp  Parch  Fare  Embarked\n",
       "413         0       3   30      0      0     8         1\n",
       "414         1       1   39      0      0   108         2\n",
       "415         0       3   38      0      0     7         1\n",
       "416         0       3   30      0      0     8         1\n",
       "417         0       3   30      1      1    22         2"
      ]
     },
     "execution_count": 22,
     "metadata": {},
     "output_type": "execute_result"
    }
   ],
   "source": [
    "df.tail()"
   ]
  },
  {
   "cell_type": "markdown",
   "id": "937e1430",
   "metadata": {
    "papermill": {
     "duration": 0.009519,
     "end_time": "2023-08-11T05:04:20.904672",
     "exception": false,
     "start_time": "2023-08-11T05:04:20.895153",
     "status": "completed"
    },
    "tags": []
   },
   "source": [
    " <div style=\"text-align:center;margin:40px;\" >\n",
    "    <span style=\"border:3px solid black; padding:10px;color:white;margin:10px;font-size:100%;display:fill;border-radius:30px;overflow:hidden; color:blue;font-weight:bold; font-size:40px;\"> STEP-4 : Data Visualization</span>\n",
    "</div>"
   ]
  },
  {
   "cell_type": "code",
   "execution_count": 23,
   "id": "e5e0004c-ba9c-45b2-ba1b-f4d28ae31294",
   "metadata": {},
   "outputs": [
    {
     "data": {
      "text/plain": [
       "<matplotlib.legend.Legend at 0x18613e61e10>"
      ]
     },
     "execution_count": 23,
     "metadata": {},
     "output_type": "execute_result"
    },
    {
     "data": {
      "image/png": "[encoded data removed]",
      "text/plain": [
       "<Figure size 700x700 with 1 Axes>"
      ]
     },
     "metadata": {},
     "output_type": "display_data"
    }
   ],
   "source": [
    "fig = plt.figure(figsize =(7, 7))\n",
    "ax = sns.countplot(data = df , x = 'Pclass' ,hue = 'Survived')\n",
    "for bars in ax.containers:\n",
    "    ax.bar_label(bars)\n",
    "plt.title('Passengers Survival by class')\n",
    "plt.xlabel('class')\n",
    "plt.ylabel('No. of passengers')\n",
    "plt.legend()\n",
    " "
   ]
  },
  {
   "cell_type": "code",
   "execution_count": 24,
   "id": "07e4d3c0-45c2-4dc5-be8d-0d4a7649d7e6",
   "metadata": {},
   "outputs": [
    {
     "data": {
      "text/plain": [
       "<matplotlib.legend.Legend at 0x1861619b3d0>"
      ]
     },
     "execution_count": 24,
     "metadata": {},
     "output_type": "execute_result"
    },
    {
     "data": {
      "image/png": "[encoded data removed]",
      "text/plain": [
       "<Figure size 700x700 with 1 Axes>"
      ]
     },
     "metadata": {},
     "output_type": "display_data"
    }
   ],
   "source": [
    "fig = plt.figure(figsize =(7, 7))\n",
    "ax = sns.countplot(data = df , x = 'Embarked' ,hue = 'Survived')\n",
    "for bars in ax.containers:\n",
    "    ax.bar_label(bars)\n",
    "plt.title('Passengers Survival by Embarkation port')\n",
    "plt.xlabel('Embarked')\n",
    "plt.ylabel('No. of passengers')\n",
    "plt.legend()"
   ]
  },
  {
   "cell_type": "code",
   "execution_count": 25,
   "id": "737cd145-76c6-4944-b533-4797884c51ff",
   "metadata": {},
   "outputs": [
    {
     "data": {
      "text/plain": [
       "<matplotlib.legend.Legend at 0x1861607b650>"
      ]
     },
     "execution_count": 25,
     "metadata": {},
     "output_type": "execute_result"
    },
    {
     "data": {
      "image/png": "[encoded data removed]",
      "text/plain": [
       "<Figure size 700x700 with 1 Axes>"
      ]
     },
     "metadata": {},
     "output_type": "display_data"
    }
   ],
   "source": [
    "fig = plt.figure(figsize =(7, 7))\n",
    "ax = sns.countplot(data = df , x = 'SibSp' ,hue = 'Survived')\n",
    "for bars in ax.containers:\n",
    "    ax.bar_label(bars)\n",
    "plt.title('Passengers Survival by no. of Siblings or spouse')\n",
    "plt.xlabel('Sibsp')\n",
    "plt.ylabel('No. of passengers')\n",
    "plt.legend()"
   ]
  },
  {
   "cell_type": "code",
   "execution_count": 26,
   "id": "f41ae649-76ce-4ee5-a54a-b5e3d00d5e78",
   "metadata": {},
   "outputs": [
    {
     "data": {
      "text/plain": [
       "<matplotlib.legend.Legend at 0x186168eb790>"
      ]
     },
     "execution_count": 26,
     "metadata": {},
     "output_type": "execute_result"
    },
    {
     "data": {
      "image/png": "[encoded data removed]",
      "text/plain": [
       "<Figure size 700x700 with 1 Axes>"
      ]
     },
     "metadata": {},
     "output_type": "display_data"
    }
   ],
   "source": [
    "fig = plt.figure(figsize =(7, 7))\n",
    "ax = sns.countplot(data = df , x = 'Parch' ,hue = 'Survived')\n",
    "for bars in ax.containers:\n",
    "    ax.bar_label(bars)\n",
    "plt.title('Passengers Survival by no. of parent or children')\n",
    "plt.xlabel('Parch')\n",
    "plt.ylabel('No. of passengers')\n",
    "plt.legend()"
   ]
  },
  {
   "cell_type": "code",
   "execution_count": 27,
   "id": "62373430",
   "metadata": {
    "papermill": {
     "duration": 0.507263,
     "end_time": "2023-08-11T05:04:21.421526",
     "exception": false,
     "start_time": "2023-08-11T05:04:20.914263",
     "status": "completed"
    },
    "tags": []
   },
   "outputs": [
    {
     "data": {
      "text/plain": [
       "<matplotlib.legend.Legend at 0x1861693e790>"
      ]
     },
     "execution_count": 27,
     "metadata": {},
     "output_type": "execute_result"
    },
    {
     "data": {
      "image/png": "[encoded data removed]",
      "text/plain": [
       "<Figure size 1000x700 with 1 Axes>"
      ]
     },
     "metadata": {},
     "output_type": "display_data"
    }
   ],
   "source": [
    "fig = plt.figure(figsize =(10, 7))\n",
    "ax = plt.hist(x = [df[df['Survived']==1]['Age'],df[df['Survived']==0]['Age']],bins=[0,10,20,30,40,50,60,70,80],color = ['orange','grey'],label = ['Survived','Not survived'])\n",
    "plt.title('Passengers Survival by Age group')\n",
    "plt.xlabel('Age groups')\n",
    "plt.ylabel('No. of passengers')\n",
    "plt.legend()\n",
    " \n"
   ]
  },
  {
   "cell_type": "code",
   "execution_count": 28,
   "id": "09810072",
   "metadata": {
    "papermill": {
     "duration": 0.43754,
     "end_time": "2023-08-11T05:04:21.869813",
     "exception": false,
     "start_time": "2023-08-11T05:04:21.432273",
     "status": "completed"
    },
    "tags": []
   },
   "outputs": [
    {
     "data": {
      "text/plain": [
       "<matplotlib.legend.Legend at 0x18616918d90>"
      ]
     },
     "execution_count": 28,
     "metadata": {},
     "output_type": "execute_result"
    },
    {
     "data": {
      "image/png": "[encoded data removed]",
      "text/plain": [
       "<Figure size 1000x700 with 1 Axes>"
      ]
     },
     "metadata": {},
     "output_type": "display_data"
    }
   ],
   "source": [
    "fig = plt.figure(figsize =(10, 7))\n",
    "plt.hist(x = [df[df['Survived']==1]['Fare'], df[df['Survived']==0]['Fare']],bins =[0,100,200,300,400,500,600], color = ['blue','black'],label = ['Survived','Not survived'])\n",
    "plt.title('Passenger survival by fare')\n",
    "plt.xlabel('Fare')\n",
    "plt.ylabel('No. of passengers')\n",
    "plt.legend()"
   ]
  },
  {
   "cell_type": "code",
   "execution_count": 29,
   "id": "2876d6b2",
   "metadata": {
    "papermill": {
     "duration": 0.310476,
     "end_time": "2023-08-11T05:04:22.191216",
     "exception": false,
     "start_time": "2023-08-11T05:04:21.88074",
     "status": "completed"
    },
    "tags": []
   },
   "outputs": [
    {
     "data": {
      "image/png": "[encoded data removed]",
      "text/plain": [
       "<Figure size 640x480 with 1 Axes>"
      ]
     },
     "metadata": {},
     "output_type": "display_data"
    }
   ],
   "source": [
    "survival_counts = df['Survived'].value_counts()\n",
    "labels= ['Not Survived','Survived']\n",
    "\n",
    "colors=['magenta','pink']\n",
    "\n",
    "plt.pie(survival_counts,labels=labels, colors=colors, startangle=90,shadow=True, explode=(0.1,0.1),autopct='%1.2f%%')\n",
    "\n",
    "plt.axis('equal')\n",
    "plt.title('Survival percentage comparison')\n",
    "\n",
    "plt.show()"
   ]
  },
  {
   "cell_type": "markdown",
   "id": "16cbcdf3",
   "metadata": {
    "papermill": {
     "duration": 0.013327,
     "end_time": "2023-08-11T05:04:22.216948",
     "exception": false,
     "start_time": "2023-08-11T05:04:22.203621",
     "status": "completed"
    },
    "tags": []
   },
   "source": [
    " <div style=\"text-align:center;margin:40px;\" >\n",
    "    <span style=\"border:3px solid black; padding:10px;color:white;margin:10px;font-size:100%;display:fill;border-radius:30px;overflow:hidden; color:blue;font-weight:bold; font-size:40px;\"> STEP-5 : Splitting the data</span>\n",
    "</div>\n"
   ]
  },
  {
   "cell_type": "code",
   "execution_count": 30,
   "id": "36ff13f3",
   "metadata": {
    "papermill": {
     "duration": 0.026725,
     "end_time": "2023-08-11T05:04:22.25659",
     "exception": false,
     "start_time": "2023-08-11T05:04:22.229865",
     "status": "completed"
    },
    "tags": []
   },
   "outputs": [],
   "source": [
    "Train = df.drop('Survived', axis=1)\n",
    "Test = df['Survived']\n",
    "x_train, x_test, y_train, y_test = train_test_split(Train, Test, test_size = 0.1, random_state =1)"
   ]
  },
  {
   "cell_type": "code",
   "execution_count": 31,
   "id": "fb7acd98-d311-4df6-92df-f7a7ae5780a5",
   "metadata": {},
   "outputs": [
    {
     "name": "stdout",
     "output_type": "stream",
     "text": [
      "x_train :  (376, 6)\n",
      "x_test :  (42, 6)\n",
      "y_train :  (376,)\n",
      "y_test :  (42,)\n"
     ]
    }
   ],
   "source": [
    "print(\"x_train : \", x_train.shape)\n",
    "print(\"x_test : \", x_test.shape)\n",
    "print(\"y_train : \", y_train.shape) \n",
    "print(\"y_test : \", y_test.shape) "
   ]
  },
  {
   "cell_type": "markdown",
   "id": "0aa849a9-1ca0-432e-8835-541c7ba4f103",
   "metadata": {
    "papermill": {
     "duration": 0.012416,
     "end_time": "2023-08-11T05:04:22.282341",
     "exception": false,
     "start_time": "2023-08-11T05:04:22.269925",
     "status": "completed"
    },
    "tags": []
   },
   "source": [
    " <div style=\"text-align:center;margin:40px;\" >\n",
    "    <span style=\"border:3px solid black; padding:10px;color:white;margin:10px;font-size:100%;display:fill;border-radius:30px;overflow:hidden; color:blue;font-weight:bold; font-size:40px;\"> STEP-6 : Model Building</span>\n",
    "</div>"
   ]
  },
  {
   "cell_type": "code",
   "execution_count": 32,
   "id": "8231cc9f-d225-48ac-8b6e-c5c15a51967f",
   "metadata": {},
   "outputs": [],
   "source": [
    "LR = LogisticRegression(solver='liblinear', max_iter=200)\n",
    "LR.fit(x_train, y_train)\n",
    "y_pred = LR.predict(x_test)"
   ]
  },
  {
   "cell_type": "code",
   "execution_count": 33,
   "id": "465ca824-0556-49be-b44d-af9505ece67a",
   "metadata": {},
   "outputs": [
    {
     "name": "stdout",
     "output_type": "stream",
     "text": [
      "              precision    recall  f1-score   support\n",
      "\n",
      "           0       0.75      0.97      0.85        31\n",
      "           1       0.50      0.09      0.15        11\n",
      "\n",
      "    accuracy                           0.74        42\n",
      "   macro avg       0.62      0.53      0.50        42\n",
      "weighted avg       0.68      0.74      0.66        42\n",
      "\n"
     ]
    }
   ],
   "source": [
    "cr= classification_report(y_test,y_pred)\n",
    "print(cr)"
   ]
  },
  {
   "cell_type": "code",
   "execution_count": 34,
   "id": "f2534623-dfc1-4245-a64c-5038736211bd",
   "metadata": {
    "papermill": {
     "duration": 0.039214,
     "end_time": "2023-08-11T05:04:22.333776",
     "exception": false,
     "start_time": "2023-08-11T05:04:22.294562",
     "status": "completed"
    },
    "tags": []
   },
   "outputs": [
    {
     "name": "stdout",
     "output_type": "stream",
     "text": [
      "Logistic regression accuracy: 73.81%\n"
     ]
    },
    {
     "data": {
      "text/plain": [
       "array([[0.60601486, 0.39398514]])"
      ]
     },
     "execution_count": 34,
     "metadata": {},
     "output_type": "execute_result"
    }
   ],
   "source": [
    "LRAcc = accuracy_score(y_pred,y_test)\n",
    "print('Logistic regression accuracy: {:.2f}%'.format(LRAcc*100))\n",
    "LR.predict_proba([[2,50,1,0,7,0]])"
   ]
  },
  {
   "cell_type": "code",
   "execution_count": 35,
   "id": "645b4d88-0331-4046-bda7-b4be9b2e90f1",
   "metadata": {},
   "outputs": [
    {
     "name": "stdout",
     "output_type": "stream",
     "text": [
      "              precision    recall  f1-score   support\n",
      "\n",
      "           0       0.74      1.00      0.85        31\n",
      "           1       0.00      0.00      0.00        11\n",
      "\n",
      "    accuracy                           0.74        42\n",
      "   macro avg       0.37      0.50      0.42        42\n",
      "weighted avg       0.54      0.74      0.63        42\n",
      "\n",
      "[[31  0]\n",
      " [11  0]]\n",
      "SVC accuracy: 73.81%\n"
     ]
    }
   ],
   "source": [
    "sv_m=SVC()\n",
    "sv_m.fit(x_train,y_train)\n",
    "y_prd=sv_m.predict(x_test)\n",
    "print(classification_report(y_test, y_prd))\n",
    "print(confusion_matrix(y_test, y_prd))\n",
    "SVCacc = accuracy_score(y_test,y_prd)\n",
    "print('SVC accuracy: {:.2f}%'.format(SVCacc*100))"
   ]
  },
  {
   "cell_type": "markdown",
   "id": "45fb3b04-20d5-44d2-b882-5eed3ba33141",
   "metadata": {},
   "source": [
    "<span style=\"display:fill;overflow:hidden; color:darkViolet;font-size:30px;font-weight:bold;\">MODEL ACCURACY ACHIEVED: <span style=\"color:purple;font-size:30px;font-weight:bold\">74 %</span></span>"
   ]
  },
  {
   "cell_type": "markdown",
   "id": "618d7f5a-cc61-4b78-830b-866eeddb9dd2",
   "metadata": {},
   "source": [
    " <div style=\"text-align:center;margin:40px;\" >\n",
    "    <span style=\"border:3px solid black; padding:10px;color:white;margin:10px;font-size:100%;display:fill;border-radius:30px;overflow:hidden; color:blue;font-weight:bold; font-size:40px;\"> STEP-7 : Making Prediction using model</span>\n",
    "</div>"
   ]
  },
  {
   "cell_type": "code",
   "execution_count": 36,
   "id": "1b425445-437e-4e85-8907-6b4525483a94",
   "metadata": {},
   "outputs": [
    {
     "data": {
      "text/html": [
       "<div>\n",
       "<style scoped>\n",
       "    .dataframe tbody tr th:only-of-type {\n",
       "        vertical-align: middle;\n",
       "    }\n",
       "\n",
       "    .dataframe tbody tr th {\n",
       "        vertical-align: top;\n",
       "    }\n",
       "\n",
       "    .dataframe thead th {\n",
       "        text-align: right;\n",
       "    }\n",
       "</style>\n",
       "<table border=\"1\" class=\"dataframe\">\n",
       "  <thead>\n",
       "    <tr style=\"text-align: right;\">\n",
       "      <th></th>\n",
       "      <th>Survived</th>\n",
       "      <th>Pclass</th>\n",
       "      <th>Age</th>\n",
       "      <th>SibSp</th>\n",
       "      <th>Parch</th>\n",
       "      <th>Fare</th>\n",
       "      <th>Embarked</th>\n",
       "    </tr>\n",
       "  </thead>\n",
       "  <tbody>\n",
       "    <tr>\n",
       "      <th>0</th>\n",
       "      <td>0</td>\n",
       "      <td>3</td>\n",
       "      <td>34</td>\n",
       "      <td>0</td>\n",
       "      <td>0</td>\n",
       "      <td>7</td>\n",
       "      <td>0</td>\n",
       "    </tr>\n",
       "    <tr>\n",
       "      <th>1</th>\n",
       "      <td>1</td>\n",
       "      <td>3</td>\n",
       "      <td>47</td>\n",
       "      <td>1</td>\n",
       "      <td>0</td>\n",
       "      <td>7</td>\n",
       "      <td>1</td>\n",
       "    </tr>\n",
       "    <tr>\n",
       "      <th>2</th>\n",
       "      <td>0</td>\n",
       "      <td>2</td>\n",
       "      <td>62</td>\n",
       "      <td>0</td>\n",
       "      <td>0</td>\n",
       "      <td>9</td>\n",
       "      <td>0</td>\n",
       "    </tr>\n",
       "    <tr>\n",
       "      <th>3</th>\n",
       "      <td>0</td>\n",
       "      <td>3</td>\n",
       "      <td>27</td>\n",
       "      <td>0</td>\n",
       "      <td>0</td>\n",
       "      <td>8</td>\n",
       "      <td>1</td>\n",
       "    </tr>\n",
       "    <tr>\n",
       "      <th>4</th>\n",
       "      <td>1</td>\n",
       "      <td>3</td>\n",
       "      <td>22</td>\n",
       "      <td>1</td>\n",
       "      <td>1</td>\n",
       "      <td>12</td>\n",
       "      <td>1</td>\n",
       "    </tr>\n",
       "    <tr>\n",
       "      <th>...</th>\n",
       "      <td>...</td>\n",
       "      <td>...</td>\n",
       "      <td>...</td>\n",
       "      <td>...</td>\n",
       "      <td>...</td>\n",
       "      <td>...</td>\n",
       "      <td>...</td>\n",
       "    </tr>\n",
       "    <tr>\n",
       "      <th>413</th>\n",
       "      <td>0</td>\n",
       "      <td>3</td>\n",
       "      <td>30</td>\n",
       "      <td>0</td>\n",
       "      <td>0</td>\n",
       "      <td>8</td>\n",
       "      <td>1</td>\n",
       "    </tr>\n",
       "    <tr>\n",
       "      <th>414</th>\n",
       "      <td>1</td>\n",
       "      <td>1</td>\n",
       "      <td>39</td>\n",
       "      <td>0</td>\n",
       "      <td>0</td>\n",
       "      <td>108</td>\n",
       "      <td>2</td>\n",
       "    </tr>\n",
       "    <tr>\n",
       "      <th>415</th>\n",
       "      <td>0</td>\n",
       "      <td>3</td>\n",
       "      <td>38</td>\n",
       "      <td>0</td>\n",
       "      <td>0</td>\n",
       "      <td>7</td>\n",
       "      <td>1</td>\n",
       "    </tr>\n",
       "    <tr>\n",
       "      <th>416</th>\n",
       "      <td>0</td>\n",
       "      <td>3</td>\n",
       "      <td>30</td>\n",
       "      <td>0</td>\n",
       "      <td>0</td>\n",
       "      <td>8</td>\n",
       "      <td>1</td>\n",
       "    </tr>\n",
       "    <tr>\n",
       "      <th>417</th>\n",
       "      <td>0</td>\n",
       "      <td>3</td>\n",
       "      <td>30</td>\n",
       "      <td>1</td>\n",
       "      <td>1</td>\n",
       "      <td>22</td>\n",
       "      <td>2</td>\n",
       "    </tr>\n",
       "  </tbody>\n",
       "</table>\n",
       "<p>418 rows × 7 columns</p>\n",
       "</div>"
      ],
      "text/plain": [
       "     Survived  Pclass  Age  SibSp  Parch  Fare  Embarked\n",
       "0           0       3   34      0      0     7         0\n",
       "1           1       3   47      1      0     7         1\n",
       "2           0       2   62      0      0     9         0\n",
       "3           0       3   27      0      0     8         1\n",
       "4           1       3   22      1      1    12         1\n",
       "..        ...     ...  ...    ...    ...   ...       ...\n",
       "413         0       3   30      0      0     8         1\n",
       "414         1       1   39      0      0   108         2\n",
       "415         0       3   38      0      0     7         1\n",
       "416         0       3   30      0      0     8         1\n",
       "417         0       3   30      1      1    22         2\n",
       "\n",
       "[418 rows x 7 columns]"
      ]
     },
     "execution_count": 36,
     "metadata": {},
     "output_type": "execute_result"
    }
   ],
   "source": [
    "df"
   ]
  },
  {
   "cell_type": "code",
   "execution_count": 37,
   "id": "b7060683-803c-4978-ab26-70c2448f1fd3",
   "metadata": {},
   "outputs": [
    {
     "name": "stdout",
     "output_type": "stream",
     "text": [
      "0 = Not survived , 1 = survived\n",
      "Passenger prediction :  [1]\n"
     ]
    }
   ],
   "source": [
    "prediction= LR.predict((np.array([[2,30,1,0,100,0]])))\n",
    "print(\"0 = Not survived , 1 = survived\")\n",
    "print(\"Passenger prediction : \",prediction)"
   ]
  },
  {
   "cell_type": "markdown",
   "id": "89cde18d-5362-481c-a4fa-fdd66213443b",
   "metadata": {},
   "source": [
    "<div style=\"padding:15px;color:white;font-size:100%;text-align:center;display:fill;overflow:hidden;\">\n",
    "   <b> <span style='color:red; font-size:30px;'>Made by Sagar Thora</span></b>\n",
    "</div>"
   ]
  }
 ],
 "metadata": {
  "kernelspec": {
   "display_name": "Python 3 (ipykernel)",
   "language": "python",
   "name": "python3"
  },
  "language_info": {
   "codemirror_mode": {
    "name": "ipython",
    "version": 3
   },
   "file_extension": ".py",
   "mimetype": "text/x-python",
   "name": "python",
   "nbconvert_exporter": "python",
   "pygments_lexer": "ipython3",
   "version": "3.11.4"
  },
  "papermill": {
   "default_parameters": {},
   "duration": 20.347859,
   "end_time": "2023-08-11T05:04:23.292327",
   "environment_variables": {},
   "exception": null,
   "input_path": "__notebook__.ipynb",
   "output_path": "__notebook__.ipynb",
   "parameters": {},
   "start_time": "2023-08-11T05:04:02.944468",
   "version": "2.4.0"
  }
 },
 "nbformat": 4,
 "nbformat_minor": 5
}
